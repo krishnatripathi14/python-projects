{
 "cells": [
  {
   "cell_type": "code",
   "execution_count": null,
   "id": "d4503942",
   "metadata": {},
   "outputs": [],
   "source": [
    "import os \n",
    "import pyttsx3\n",
    "os.system(\"tput setaf 3\")\n",
    "print(\"\\t\\t\\t welcome to menu program\")\n",
    "\n",
    "os.system(\"tput setaf 7\")\n",
    "print(\"/t/t/t------------\")\n",
    "\n",
    "while True:\n",
    "    print(\"\"\"\n",
    "          Press 1: To see date\n",
    "          Press 2: To check cal\n",
    "          Press 3: To setup account\n",
    "          Press 4: To create file\n",
    "          Press 5: To open web browser\n",
    "          Press 6: To exit\n",
    "    \"\"\")\n",
    "    \n",
    "    \"\"\"\n",
    "    myspeaker = pyttsx3.init()\n",
    "    myspeaker.say(\"Enter your choice\")\n",
    "    myspeaker.runandSay()\n",
    "    \"\"\"\n",
    "    ch = input(\"Enter your choice: \")\n",
    "    print(ch)\n",
    "    \n",
    "    if int(ch) == 1:\n",
    "        os.system(\"date\")\n",
    "    elif int(ch) == 2:\n",
    "        os.system(\"cal\")\n",
    "    elif int(ch) == 2:\n",
    "        os.system(\"cal\")\n",
    "    elif int(ch) == 2:\n",
    "        os.system(\"cal\")\n",
    "    elif int(ch) == 2:\n",
    "        os.system(\"cal\")\n",
    "    elif int(ch) == 2:\n",
    "        os.system(\"cal\")    \n",
    "    else:\n",
    "        print(\"end of task\")\n",
    "    input(\"press enter to continue....\")\n",
    "    os.system(\"clear\")\n",
    "    \n",
    "    #this works with linux operating system "
   ]
  }
 ],
 "metadata": {
  "kernelspec": {
   "display_name": "Python 3 (ipykernel)",
   "language": "python",
   "name": "python3"
  },
  "language_info": {
   "codemirror_mode": {
    "name": "ipython",
    "version": 3
   },
   "file_extension": ".py",
   "mimetype": "text/x-python",
   "name": "python",
   "nbconvert_exporter": "python",
   "pygments_lexer": "ipython3",
   "version": "3.11.5"
  }
 },
 "nbformat": 4,
 "nbformat_minor": 5
}
